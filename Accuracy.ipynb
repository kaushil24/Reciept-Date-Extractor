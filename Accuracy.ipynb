{
 "cells": [
  {
   "cell_type": "code",
   "execution_count": 32,
   "metadata": {},
   "outputs": [
    {
     "name": "stdout",
     "output_type": "stream",
     "text": [
      "1\n"
     ]
    }
   ],
   "source": [
    "print(1)"
   ]
  },
  {
   "cell_type": "code",
   "execution_count": 33,
   "metadata": {},
   "outputs": [],
   "source": [
    "import pandas as pd\n",
    "import os\n",
    "import numpy as np\n",
    "from dateExt import dateExtractor\n",
    "\n",
    "dx = dateExtractor()"
   ]
  },
  {
   "cell_type": "code",
   "execution_count": 44,
   "metadata": {},
   "outputs": [
    {
     "data": {
      "text/html": [
       "<div>\n",
       "<style scoped>\n",
       "    .dataframe tbody tr th:only-of-type {\n",
       "        vertical-align: middle;\n",
       "    }\n",
       "\n",
       "    .dataframe tbody tr th {\n",
       "        vertical-align: top;\n",
       "    }\n",
       "\n",
       "    .dataframe thead th {\n",
       "        text-align: right;\n",
       "    }\n",
       "</style>\n",
       "<table border=\"1\" class=\"dataframe\">\n",
       "  <thead>\n",
       "    <tr style=\"text-align: right;\">\n",
       "      <th></th>\n",
       "      <th>0</th>\n",
       "      <th>1</th>\n",
       "    </tr>\n",
       "  </thead>\n",
       "  <tbody>\n",
       "    <tr>\n",
       "      <th>0</th>\n",
       "      <td>9347d5f7.jpeg</td>\n",
       "      <td>NaN</td>\n",
       "    </tr>\n",
       "    <tr>\n",
       "      <th>1</th>\n",
       "      <td>459b00d4.jpeg</td>\n",
       "      <td>NaN</td>\n",
       "    </tr>\n",
       "    <tr>\n",
       "      <th>2</th>\n",
       "      <td>0a8a955f.jpeg</td>\n",
       "      <td>NaN</td>\n",
       "    </tr>\n",
       "    <tr>\n",
       "      <th>3</th>\n",
       "      <td>fc4067f4.jpeg</td>\n",
       "      <td>NaN</td>\n",
       "    </tr>\n",
       "    <tr>\n",
       "      <th>4</th>\n",
       "      <td>9aca41c9.jpeg</td>\n",
       "      <td>NaN</td>\n",
       "    </tr>\n",
       "  </tbody>\n",
       "</table>\n",
       "</div>"
      ],
      "text/plain": [
       "               0    1\n",
       "0  9347d5f7.jpeg  NaN\n",
       "1  459b00d4.jpeg  NaN\n",
       "2  0a8a955f.jpeg  NaN\n",
       "3  fc4067f4.jpeg  NaN\n",
       "4  9aca41c9.jpeg  NaN"
      ]
     },
     "execution_count": 44,
     "metadata": {},
     "output_type": "execute_result"
    }
   ],
   "source": [
    "RES_DIR = os.path.join(\"Results\", \"6-Upscale-Dilate-Erode\")\n",
    "res = pd.read_csv(os.path.join(RES_DIR, \"Normal Output.csv\"))\n",
    "res.drop(\"Unnamed: 0\", axis=1, inplace=True)\n",
    "res.head()"
   ]
  },
  {
   "cell_type": "code",
   "execution_count": 45,
   "metadata": {},
   "outputs": [
    {
     "name": "stdout",
     "output_type": "stream",
     "text": [
      "185\n"
     ]
    }
   ],
   "source": [
    "y = pd.read_excel(\"meta data.xlsx\")\n",
    "y.drop([\"Unnamed: 0\", \"Image Remarks\", \"Models output (Raw)\", \"Model Output (Processed)\"], axis = 1, inplace=True)\n",
    "y[1]  = y[1].astype(str)\n",
    "y.drop(y[y[1]==\"nan\"].index, axis = 0, inplace=True)\n",
    "print(len(y))\n",
    "y.loc[y[1]==\"---\"] = \"NaN\""
   ]
  },
  {
   "cell_type": "code",
   "execution_count": 46,
   "metadata": {},
   "outputs": [
    {
     "name": "stdout",
     "output_type": "stream",
     "text": [
      "{'sep'}\n",
      "{'jun'}\n",
      "{'june'}\n",
      "{'aug'}\n",
      "{'jan'}\n",
      "{'jun'}\n",
      "list index out of range\n",
      "{'december'}\n",
      "{'jul'}\n"
     ]
    }
   ],
   "source": [
    "for i, dt in enumerate(y[1]):\n",
    "    try:\n",
    "        y['Expected Output'][i] = dx.extractDate(dt)\n",
    "    except Exception as e:\n",
    "        print(str(e))"
   ]
  },
  {
   "cell_type": "code",
   "execution_count": 47,
   "metadata": {},
   "outputs": [],
   "source": [
    "y.rename(columns = {0: \"ID\", 1: \"Actual Date\"}, inplace=True)\n",
    "res.rename(columns= {'0': \"ID\", '1':\"Hypo\"}, inplace=True)"
   ]
  },
  {
   "cell_type": "code",
   "execution_count": 48,
   "metadata": {},
   "outputs": [
    {
     "data": {
      "text/html": [
       "<div>\n",
       "<style scoped>\n",
       "    .dataframe tbody tr th:only-of-type {\n",
       "        vertical-align: middle;\n",
       "    }\n",
       "\n",
       "    .dataframe tbody tr th {\n",
       "        vertical-align: top;\n",
       "    }\n",
       "\n",
       "    .dataframe thead th {\n",
       "        text-align: right;\n",
       "    }\n",
       "</style>\n",
       "<table border=\"1\" class=\"dataframe\">\n",
       "  <thead>\n",
       "    <tr style=\"text-align: right;\">\n",
       "      <th></th>\n",
       "      <th>ID</th>\n",
       "      <th>Actual Date</th>\n",
       "      <th>Expected Output</th>\n",
       "    </tr>\n",
       "  </thead>\n",
       "  <tbody>\n",
       "    <tr>\n",
       "      <th>0</th>\n",
       "      <td>0a0ebd53.jpeg</td>\n",
       "      <td>29-MAY-2019</td>\n",
       "      <td>2019-05-29</td>\n",
       "    </tr>\n",
       "    <tr>\n",
       "      <th>1</th>\n",
       "      <td>0a8a955f.jpeg</td>\n",
       "      <td>22.05.2019</td>\n",
       "      <td>2019-05-22</td>\n",
       "    </tr>\n",
       "    <tr>\n",
       "      <th>2</th>\n",
       "      <td>0b1664cb.jpeg</td>\n",
       "      <td>05/07/2019</td>\n",
       "      <td>2019-07-05</td>\n",
       "    </tr>\n",
       "    <tr>\n",
       "      <th>3</th>\n",
       "      <td>0c60aa84.jpeg</td>\n",
       "      <td>28-Jun-2019</td>\n",
       "      <td>2019-06-28</td>\n",
       "    </tr>\n",
       "    <tr>\n",
       "      <th>4</th>\n",
       "      <td>0c4672b4.jpeg</td>\n",
       "      <td>18/06/2019</td>\n",
       "      <td>2019-06-18</td>\n",
       "    </tr>\n",
       "  </tbody>\n",
       "</table>\n",
       "</div>"
      ],
      "text/plain": [
       "              ID  Actual Date Expected Output\n",
       "0  0a0ebd53.jpeg  29-MAY-2019      2019-05-29\n",
       "1  0a8a955f.jpeg   22.05.2019      2019-05-22\n",
       "2  0b1664cb.jpeg   05/07/2019      2019-07-05\n",
       "3  0c60aa84.jpeg  28-Jun-2019      2019-06-28\n",
       "4  0c4672b4.jpeg   18/06/2019      2019-06-18"
      ]
     },
     "execution_count": 48,
     "metadata": {},
     "output_type": "execute_result"
    }
   ],
   "source": [
    "y.head()"
   ]
  },
  {
   "cell_type": "code",
   "execution_count": 49,
   "metadata": {},
   "outputs": [
    {
     "data": {
      "text/html": [
       "<div>\n",
       "<style scoped>\n",
       "    .dataframe tbody tr th:only-of-type {\n",
       "        vertical-align: middle;\n",
       "    }\n",
       "\n",
       "    .dataframe tbody tr th {\n",
       "        vertical-align: top;\n",
       "    }\n",
       "\n",
       "    .dataframe thead th {\n",
       "        text-align: right;\n",
       "    }\n",
       "</style>\n",
       "<table border=\"1\" class=\"dataframe\">\n",
       "  <thead>\n",
       "    <tr style=\"text-align: right;\">\n",
       "      <th></th>\n",
       "      <th>ID</th>\n",
       "      <th>Hypo</th>\n",
       "    </tr>\n",
       "  </thead>\n",
       "  <tbody>\n",
       "    <tr>\n",
       "      <th>0</th>\n",
       "      <td>9347d5f7.jpeg</td>\n",
       "      <td>NaN</td>\n",
       "    </tr>\n",
       "    <tr>\n",
       "      <th>1</th>\n",
       "      <td>459b00d4.jpeg</td>\n",
       "      <td>NaN</td>\n",
       "    </tr>\n",
       "    <tr>\n",
       "      <th>2</th>\n",
       "      <td>0a8a955f.jpeg</td>\n",
       "      <td>NaN</td>\n",
       "    </tr>\n",
       "    <tr>\n",
       "      <th>3</th>\n",
       "      <td>fc4067f4.jpeg</td>\n",
       "      <td>NaN</td>\n",
       "    </tr>\n",
       "    <tr>\n",
       "      <th>4</th>\n",
       "      <td>9aca41c9.jpeg</td>\n",
       "      <td>NaN</td>\n",
       "    </tr>\n",
       "  </tbody>\n",
       "</table>\n",
       "</div>"
      ],
      "text/plain": [
       "              ID Hypo\n",
       "0  9347d5f7.jpeg  NaN\n",
       "1  459b00d4.jpeg  NaN\n",
       "2  0a8a955f.jpeg  NaN\n",
       "3  fc4067f4.jpeg  NaN\n",
       "4  9aca41c9.jpeg  NaN"
      ]
     },
     "execution_count": 49,
     "metadata": {},
     "output_type": "execute_result"
    }
   ],
   "source": [
    "res.head()"
   ]
  },
  {
   "cell_type": "code",
   "execution_count": 50,
   "metadata": {},
   "outputs": [
    {
     "data": {
      "text/html": [
       "<div>\n",
       "<style scoped>\n",
       "    .dataframe tbody tr th:only-of-type {\n",
       "        vertical-align: middle;\n",
       "    }\n",
       "\n",
       "    .dataframe tbody tr th {\n",
       "        vertical-align: top;\n",
       "    }\n",
       "\n",
       "    .dataframe thead th {\n",
       "        text-align: right;\n",
       "    }\n",
       "</style>\n",
       "<table border=\"1\" class=\"dataframe\">\n",
       "  <thead>\n",
       "    <tr style=\"text-align: right;\">\n",
       "      <th></th>\n",
       "      <th>ID</th>\n",
       "      <th>Actual Date</th>\n",
       "      <th>Expected Output</th>\n",
       "      <th>Hypo</th>\n",
       "    </tr>\n",
       "  </thead>\n",
       "  <tbody>\n",
       "    <tr>\n",
       "      <th>0</th>\n",
       "      <td>0a0ebd53.jpeg</td>\n",
       "      <td>29-MAY-2019</td>\n",
       "      <td>2019-05-29</td>\n",
       "      <td>2019-05-29</td>\n",
       "    </tr>\n",
       "    <tr>\n",
       "      <th>1</th>\n",
       "      <td>0a8a955f.jpeg</td>\n",
       "      <td>22.05.2019</td>\n",
       "      <td>2019-05-22</td>\n",
       "      <td>NaN</td>\n",
       "    </tr>\n",
       "    <tr>\n",
       "      <th>2</th>\n",
       "      <td>0b1664cb.jpeg</td>\n",
       "      <td>05/07/2019</td>\n",
       "      <td>2019-07-05</td>\n",
       "      <td>2019-02-05</td>\n",
       "    </tr>\n",
       "    <tr>\n",
       "      <th>3</th>\n",
       "      <td>0c60aa84.jpeg</td>\n",
       "      <td>28-Jun-2019</td>\n",
       "      <td>2019-06-28</td>\n",
       "      <td>2019-06-28</td>\n",
       "    </tr>\n",
       "    <tr>\n",
       "      <th>4</th>\n",
       "      <td>0c4672b4.jpeg</td>\n",
       "      <td>18/06/2019</td>\n",
       "      <td>2019-06-18</td>\n",
       "      <td>NaN</td>\n",
       "    </tr>\n",
       "    <tr>\n",
       "      <th>...</th>\n",
       "      <td>...</td>\n",
       "      <td>...</td>\n",
       "      <td>...</td>\n",
       "      <td>...</td>\n",
       "    </tr>\n",
       "    <tr>\n",
       "      <th>180</th>\n",
       "      <td>f9034671.jpeg</td>\n",
       "      <td>06/17/2019</td>\n",
       "      <td>2019-06-17</td>\n",
       "      <td>NaN</td>\n",
       "    </tr>\n",
       "    <tr>\n",
       "      <th>181</th>\n",
       "      <td>f2e9be84.jpeg</td>\n",
       "      <td>22/05/2019</td>\n",
       "      <td>2019-05-22</td>\n",
       "      <td>NaN</td>\n",
       "    </tr>\n",
       "    <tr>\n",
       "      <th>182</th>\n",
       "      <td>fb360175.jpeg</td>\n",
       "      <td>25AUG’17</td>\n",
       "      <td>2017-08-25</td>\n",
       "      <td>NaN</td>\n",
       "    </tr>\n",
       "    <tr>\n",
       "      <th>183</th>\n",
       "      <td>fb939620.jpeg</td>\n",
       "      <td>06/16/2019</td>\n",
       "      <td>2019-06-16</td>\n",
       "      <td>NaN</td>\n",
       "    </tr>\n",
       "    <tr>\n",
       "      <th>184</th>\n",
       "      <td>fc6c8af2.jpeg</td>\n",
       "      <td>27/5/19</td>\n",
       "      <td>2019-05-27</td>\n",
       "      <td>NaN</td>\n",
       "    </tr>\n",
       "  </tbody>\n",
       "</table>\n",
       "<p>185 rows × 4 columns</p>\n",
       "</div>"
      ],
      "text/plain": [
       "                ID  Actual Date Expected Output        Hypo\n",
       "0    0a0ebd53.jpeg  29-MAY-2019      2019-05-29  2019-05-29\n",
       "1    0a8a955f.jpeg   22.05.2019      2019-05-22         NaN\n",
       "2    0b1664cb.jpeg   05/07/2019      2019-07-05  2019-02-05\n",
       "3    0c60aa84.jpeg  28-Jun-2019      2019-06-28  2019-06-28\n",
       "4    0c4672b4.jpeg   18/06/2019      2019-06-18         NaN\n",
       "..             ...          ...             ...         ...\n",
       "180  f9034671.jpeg   06/17/2019      2019-06-17         NaN\n",
       "181  f2e9be84.jpeg   22/05/2019      2019-05-22         NaN\n",
       "182  fb360175.jpeg     25AUG’17      2017-08-25         NaN\n",
       "183  fb939620.jpeg   06/16/2019      2019-06-16         NaN\n",
       "184  fc6c8af2.jpeg      27/5/19      2019-05-27         NaN\n",
       "\n",
       "[185 rows x 4 columns]"
      ]
     },
     "execution_count": 50,
     "metadata": {},
     "output_type": "execute_result"
    }
   ],
   "source": [
    "s = y.merge(res, how = 'left') #, left_index=True, right_index=True)\n",
    "s"
   ]
  },
  {
   "cell_type": "code",
   "execution_count": 51,
   "metadata": {},
   "outputs": [],
   "source": [
    "s.loc[s['Hypo']==\"null\", 'Hypo'] = \"NaN\""
   ]
  },
  {
   "cell_type": "code",
   "execution_count": 52,
   "metadata": {},
   "outputs": [
    {
     "name": "stdout",
     "output_type": "stream",
     "text": [
      "Accuracy is:  24.864864864864867\n"
     ]
    }
   ],
   "source": [
    "print(\"Accuracy is: \", len(s.loc[s['Expected Output']==s['Hypo']])/len(s)*100)"
   ]
  },
  {
   "cell_type": "markdown",
   "metadata": {},
   "source": [
    "## Results: "
   ]
  },
  {
   "cell_type": "markdown",
   "metadata": {},
   "source": [
    "|Test No: |Model            |Accuracy |\n",
    "|---------|-----------------|---------|\n",
    "|2        |W/o Auto correct |29.746835|\n",
    "|3        |W Auto Correct   |30.379747|\n",
    "|4        |W pre processing |4.4303794|\n",
    "|5        |W UpScaling only |32.911392|\n",
    "|5.0        |W UpScln x2.5    |36.819186|\n",
    "|5.1      | W upScln x5 | 32.432432|\n",
    "|6 | W UpScln+dilate+Erode | 24.86486 |"
   ]
  },
  {
   "cell_type": "markdown",
   "metadata": {},
   "source": [
    "# Some minor Analysi"
   ]
  },
  {
   "cell_type": "code",
   "execution_count": 43,
   "metadata": {},
   "outputs": [
    {
     "data": {
      "text/html": [
       "<div>\n",
       "<style scoped>\n",
       "    .dataframe tbody tr th:only-of-type {\n",
       "        vertical-align: middle;\n",
       "    }\n",
       "\n",
       "    .dataframe tbody tr th {\n",
       "        vertical-align: top;\n",
       "    }\n",
       "\n",
       "    .dataframe thead th {\n",
       "        text-align: right;\n",
       "    }\n",
       "</style>\n",
       "<table border=\"1\" class=\"dataframe\">\n",
       "  <thead>\n",
       "    <tr style=\"text-align: right;\">\n",
       "      <th></th>\n",
       "      <th>ID</th>\n",
       "      <th>Actual Date</th>\n",
       "      <th>Expected Output</th>\n",
       "      <th>Hypo</th>\n",
       "    </tr>\n",
       "  </thead>\n",
       "  <tbody>\n",
       "    <tr>\n",
       "      <th>0</th>\n",
       "      <td>0a0ebd53.jpeg</td>\n",
       "      <td>29-MAY-2019</td>\n",
       "      <td>2019-05-29</td>\n",
       "      <td>NaN</td>\n",
       "    </tr>\n",
       "    <tr>\n",
       "      <th>1</th>\n",
       "      <td>0a8a955f.jpeg</td>\n",
       "      <td>22.05.2019</td>\n",
       "      <td>2019-05-22</td>\n",
       "      <td>NaN</td>\n",
       "    </tr>\n",
       "    <tr>\n",
       "      <th>2</th>\n",
       "      <td>0b1664cb.jpeg</td>\n",
       "      <td>05/07/2019</td>\n",
       "      <td>2019-07-05</td>\n",
       "      <td>NaN</td>\n",
       "    </tr>\n",
       "    <tr>\n",
       "      <th>3</th>\n",
       "      <td>0c60aa84.jpeg</td>\n",
       "      <td>28-Jun-2019</td>\n",
       "      <td>2019-06-28</td>\n",
       "      <td>2013-06-28</td>\n",
       "    </tr>\n",
       "    <tr>\n",
       "      <th>4</th>\n",
       "      <td>0c4672b4.jpeg</td>\n",
       "      <td>18/06/2019</td>\n",
       "      <td>2019-06-18</td>\n",
       "      <td>NaN</td>\n",
       "    </tr>\n",
       "    <tr>\n",
       "      <th>...</th>\n",
       "      <td>...</td>\n",
       "      <td>...</td>\n",
       "      <td>...</td>\n",
       "      <td>...</td>\n",
       "    </tr>\n",
       "    <tr>\n",
       "      <th>180</th>\n",
       "      <td>f9034671.jpeg</td>\n",
       "      <td>06/17/2019</td>\n",
       "      <td>2019-06-17</td>\n",
       "      <td>NaN</td>\n",
       "    </tr>\n",
       "    <tr>\n",
       "      <th>181</th>\n",
       "      <td>f2e9be84.jpeg</td>\n",
       "      <td>22/05/2019</td>\n",
       "      <td>2019-05-22</td>\n",
       "      <td>NaN</td>\n",
       "    </tr>\n",
       "    <tr>\n",
       "      <th>182</th>\n",
       "      <td>fb360175.jpeg</td>\n",
       "      <td>25AUG’17</td>\n",
       "      <td>2017-08-25</td>\n",
       "      <td>NaN</td>\n",
       "    </tr>\n",
       "    <tr>\n",
       "      <th>183</th>\n",
       "      <td>fb939620.jpeg</td>\n",
       "      <td>06/16/2019</td>\n",
       "      <td>2019-06-16</td>\n",
       "      <td>NaN</td>\n",
       "    </tr>\n",
       "    <tr>\n",
       "      <th>184</th>\n",
       "      <td>fc6c8af2.jpeg</td>\n",
       "      <td>27/5/19</td>\n",
       "      <td>2019-05-27</td>\n",
       "      <td>NaN</td>\n",
       "    </tr>\n",
       "  </tbody>\n",
       "</table>\n",
       "<p>125 rows × 4 columns</p>\n",
       "</div>"
      ],
      "text/plain": [
       "                ID  Actual Date Expected Output        Hypo\n",
       "0    0a0ebd53.jpeg  29-MAY-2019      2019-05-29         NaN\n",
       "1    0a8a955f.jpeg   22.05.2019      2019-05-22         NaN\n",
       "2    0b1664cb.jpeg   05/07/2019      2019-07-05         NaN\n",
       "3    0c60aa84.jpeg  28-Jun-2019      2019-06-28  2013-06-28\n",
       "4    0c4672b4.jpeg   18/06/2019      2019-06-18         NaN\n",
       "..             ...          ...             ...         ...\n",
       "180  f9034671.jpeg   06/17/2019      2019-06-17         NaN\n",
       "181  f2e9be84.jpeg   22/05/2019      2019-05-22         NaN\n",
       "182  fb360175.jpeg     25AUG’17      2017-08-25         NaN\n",
       "183  fb939620.jpeg   06/16/2019      2019-06-16         NaN\n",
       "184  fc6c8af2.jpeg      27/5/19      2019-05-27         NaN\n",
       "\n",
       "[125 rows x 4 columns]"
      ]
     },
     "execution_count": 43,
     "metadata": {},
     "output_type": "execute_result"
    }
   ],
   "source": [
    "s.head(50)\n",
    "s.loc[s['Expected Output']!=s['Hypo']]"
   ]
  },
  {
   "cell_type": "code",
   "execution_count": null,
   "metadata": {},
   "outputs": [],
   "source": []
  }
 ],
 "metadata": {
  "kernelspec": {
   "display_name": "Python 3",
   "language": "python",
   "name": "python3"
  },
  "language_info": {
   "codemirror_mode": {
    "name": "ipython",
    "version": 3
   },
   "file_extension": ".py",
   "mimetype": "text/x-python",
   "name": "python",
   "nbconvert_exporter": "python",
   "pygments_lexer": "ipython3",
   "version": "3.6.8"
  }
 },
 "nbformat": 4,
 "nbformat_minor": 4
}
