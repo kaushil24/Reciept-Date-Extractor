{
 "cells": [
  {
   "cell_type": "code",
   "execution_count": 39,
   "metadata": {},
   "outputs": [
    {
     "name": "stdout",
     "output_type": "stream",
     "text": [
      "1\n"
     ]
    }
   ],
   "source": [
    "print(1)"
   ]
  },
  {
   "cell_type": "code",
   "execution_count": 1,
   "metadata": {},
   "outputs": [],
   "source": [
    "import pandas as pd\n",
    "import os\n",
    "import numpy as np\n",
    "from dateExt import dateExtractor\n",
    "\n",
    "dx = dateExtractor()"
   ]
  },
  {
   "cell_type": "code",
   "execution_count": 12,
   "metadata": {},
   "outputs": [
    {
     "data": {
      "text/html": [
       "<div>\n",
       "<style scoped>\n",
       "    .dataframe tbody tr th:only-of-type {\n",
       "        vertical-align: middle;\n",
       "    }\n",
       "\n",
       "    .dataframe tbody tr th {\n",
       "        vertical-align: top;\n",
       "    }\n",
       "\n",
       "    .dataframe thead th {\n",
       "        text-align: right;\n",
       "    }\n",
       "</style>\n",
       "<table border=\"1\" class=\"dataframe\">\n",
       "  <thead>\n",
       "    <tr style=\"text-align: right;\">\n",
       "      <th></th>\n",
       "      <th>0</th>\n",
       "      <th>1</th>\n",
       "    </tr>\n",
       "  </thead>\n",
       "  <tbody>\n",
       "    <tr>\n",
       "      <th>0</th>\n",
       "      <td>9347d5f7.jpeg</td>\n",
       "      <td>NaN</td>\n",
       "    </tr>\n",
       "    <tr>\n",
       "      <th>1</th>\n",
       "      <td>459b00d4.jpeg</td>\n",
       "      <td>NaN</td>\n",
       "    </tr>\n",
       "    <tr>\n",
       "      <th>2</th>\n",
       "      <td>0a8a955f.jpeg</td>\n",
       "      <td>NaN</td>\n",
       "    </tr>\n",
       "    <tr>\n",
       "      <th>3</th>\n",
       "      <td>9f6518d2.jpeg</td>\n",
       "      <td>2019-02-24</td>\n",
       "    </tr>\n",
       "    <tr>\n",
       "      <th>4</th>\n",
       "      <td>fc4067f4.jpeg</td>\n",
       "      <td>NaN</td>\n",
       "    </tr>\n",
       "  </tbody>\n",
       "</table>\n",
       "</div>"
      ],
      "text/plain": [
       "               0           1\n",
       "0  9347d5f7.jpeg         NaN\n",
       "1  459b00d4.jpeg         NaN\n",
       "2  0a8a955f.jpeg         NaN\n",
       "3  9f6518d2.jpeg  2019-02-24\n",
       "4  fc4067f4.jpeg         NaN"
      ]
     },
     "execution_count": 12,
     "metadata": {},
     "output_type": "execute_result"
    }
   ],
   "source": [
    "RES_DIR = os.path.join(\"Results\", \"5 - UpScale\")\n",
    "res = pd.read_csv(os.path.join(RES_DIR, \"Normal Output.csv\"))\n",
    "res.drop(\"Unnamed: 0\", axis=1, inplace=True)\n",
    "res.head()"
   ]
  },
  {
   "cell_type": "code",
   "execution_count": 13,
   "metadata": {},
   "outputs": [
    {
     "name": "stdout",
     "output_type": "stream",
     "text": [
      "158\n"
     ]
    }
   ],
   "source": [
    "y = pd.read_excel(\"meta data.xlsx\")\n",
    "y.drop([\"Unnamed: 0\", \"Image Remarks\", \"Models output (Raw)\", \"Model Output (Processed)\"], axis = 1, inplace=True)\n",
    "y[1]  = y[1].astype(str)\n",
    "y.drop(y[y[1]==\"nan\"].index, axis = 0, inplace=True)\n",
    "print(len(y))\n",
    "y.loc[y[1]==\"---\"] = \"NaN\""
   ]
  },
  {
   "cell_type": "code",
   "execution_count": 14,
   "metadata": {},
   "outputs": [
    {
     "name": "stdout",
     "output_type": "stream",
     "text": [
      "{'sep'}\n",
      "{'jun'}\n",
      "{'june'}\n",
      "{'aug'}\n",
      "{'jan'}\n",
      "{'jun'}\n",
      "list index out of range\n",
      "{'december'}\n",
      "{'jul'}\n"
     ]
    }
   ],
   "source": [
    "for i, dt in enumerate(y[1]):\n",
    "    try:\n",
    "        y['Expected Output'][i] = dx.extractDate(dt)\n",
    "    except Exception as e:\n",
    "        print(str(e))"
   ]
  },
  {
   "cell_type": "code",
   "execution_count": 15,
   "metadata": {},
   "outputs": [],
   "source": [
    "y.rename(columns = {0: \"ID\", 1: \"Actual Date\"}, inplace=True)\n",
    "res.rename(columns= {'0': \"ID\", '1':\"Hypo\"}, inplace=True)"
   ]
  },
  {
   "cell_type": "code",
   "execution_count": 16,
   "metadata": {},
   "outputs": [
    {
     "data": {
      "text/html": [
       "<div>\n",
       "<style scoped>\n",
       "    .dataframe tbody tr th:only-of-type {\n",
       "        vertical-align: middle;\n",
       "    }\n",
       "\n",
       "    .dataframe tbody tr th {\n",
       "        vertical-align: top;\n",
       "    }\n",
       "\n",
       "    .dataframe thead th {\n",
       "        text-align: right;\n",
       "    }\n",
       "</style>\n",
       "<table border=\"1\" class=\"dataframe\">\n",
       "  <thead>\n",
       "    <tr style=\"text-align: right;\">\n",
       "      <th></th>\n",
       "      <th>ID</th>\n",
       "      <th>Actual Date</th>\n",
       "      <th>Expected Output</th>\n",
       "    </tr>\n",
       "  </thead>\n",
       "  <tbody>\n",
       "    <tr>\n",
       "      <th>0</th>\n",
       "      <td>0a0ebd53.jpeg</td>\n",
       "      <td>29-MAY-2019</td>\n",
       "      <td>2019-05-29</td>\n",
       "    </tr>\n",
       "    <tr>\n",
       "      <th>1</th>\n",
       "      <td>0a8a955f.jpeg</td>\n",
       "      <td>22.05.2019</td>\n",
       "      <td>2019-05-22</td>\n",
       "    </tr>\n",
       "    <tr>\n",
       "      <th>2</th>\n",
       "      <td>0b1664cb.jpeg</td>\n",
       "      <td>05/07/2019</td>\n",
       "      <td>2019-07-05</td>\n",
       "    </tr>\n",
       "    <tr>\n",
       "      <th>3</th>\n",
       "      <td>0c60aa84.jpeg</td>\n",
       "      <td>28-Jun-2019</td>\n",
       "      <td>2019-06-28</td>\n",
       "    </tr>\n",
       "    <tr>\n",
       "      <th>4</th>\n",
       "      <td>0c4672b4.jpeg</td>\n",
       "      <td>18/06/2019</td>\n",
       "      <td>2019-06-18</td>\n",
       "    </tr>\n",
       "  </tbody>\n",
       "</table>\n",
       "</div>"
      ],
      "text/plain": [
       "              ID  Actual Date Expected Output\n",
       "0  0a0ebd53.jpeg  29-MAY-2019      2019-05-29\n",
       "1  0a8a955f.jpeg   22.05.2019      2019-05-22\n",
       "2  0b1664cb.jpeg   05/07/2019      2019-07-05\n",
       "3  0c60aa84.jpeg  28-Jun-2019      2019-06-28\n",
       "4  0c4672b4.jpeg   18/06/2019      2019-06-18"
      ]
     },
     "execution_count": 16,
     "metadata": {},
     "output_type": "execute_result"
    }
   ],
   "source": [
    "y.head()"
   ]
  },
  {
   "cell_type": "code",
   "execution_count": 17,
   "metadata": {},
   "outputs": [
    {
     "data": {
      "text/html": [
       "<div>\n",
       "<style scoped>\n",
       "    .dataframe tbody tr th:only-of-type {\n",
       "        vertical-align: middle;\n",
       "    }\n",
       "\n",
       "    .dataframe tbody tr th {\n",
       "        vertical-align: top;\n",
       "    }\n",
       "\n",
       "    .dataframe thead th {\n",
       "        text-align: right;\n",
       "    }\n",
       "</style>\n",
       "<table border=\"1\" class=\"dataframe\">\n",
       "  <thead>\n",
       "    <tr style=\"text-align: right;\">\n",
       "      <th></th>\n",
       "      <th>ID</th>\n",
       "      <th>Hypo</th>\n",
       "    </tr>\n",
       "  </thead>\n",
       "  <tbody>\n",
       "    <tr>\n",
       "      <th>0</th>\n",
       "      <td>9347d5f7.jpeg</td>\n",
       "      <td>NaN</td>\n",
       "    </tr>\n",
       "    <tr>\n",
       "      <th>1</th>\n",
       "      <td>459b00d4.jpeg</td>\n",
       "      <td>NaN</td>\n",
       "    </tr>\n",
       "    <tr>\n",
       "      <th>2</th>\n",
       "      <td>0a8a955f.jpeg</td>\n",
       "      <td>NaN</td>\n",
       "    </tr>\n",
       "    <tr>\n",
       "      <th>3</th>\n",
       "      <td>9f6518d2.jpeg</td>\n",
       "      <td>2019-02-24</td>\n",
       "    </tr>\n",
       "    <tr>\n",
       "      <th>4</th>\n",
       "      <td>fc4067f4.jpeg</td>\n",
       "      <td>NaN</td>\n",
       "    </tr>\n",
       "  </tbody>\n",
       "</table>\n",
       "</div>"
      ],
      "text/plain": [
       "              ID        Hypo\n",
       "0  9347d5f7.jpeg         NaN\n",
       "1  459b00d4.jpeg         NaN\n",
       "2  0a8a955f.jpeg         NaN\n",
       "3  9f6518d2.jpeg  2019-02-24\n",
       "4  fc4067f4.jpeg         NaN"
      ]
     },
     "execution_count": 17,
     "metadata": {},
     "output_type": "execute_result"
    }
   ],
   "source": [
    "res.head()"
   ]
  },
  {
   "cell_type": "code",
   "execution_count": 18,
   "metadata": {},
   "outputs": [
    {
     "data": {
      "text/html": [
       "<div>\n",
       "<style scoped>\n",
       "    .dataframe tbody tr th:only-of-type {\n",
       "        vertical-align: middle;\n",
       "    }\n",
       "\n",
       "    .dataframe tbody tr th {\n",
       "        vertical-align: top;\n",
       "    }\n",
       "\n",
       "    .dataframe thead th {\n",
       "        text-align: right;\n",
       "    }\n",
       "</style>\n",
       "<table border=\"1\" class=\"dataframe\">\n",
       "  <thead>\n",
       "    <tr style=\"text-align: right;\">\n",
       "      <th></th>\n",
       "      <th>ID</th>\n",
       "      <th>Actual Date</th>\n",
       "      <th>Expected Output</th>\n",
       "      <th>Hypo</th>\n",
       "    </tr>\n",
       "  </thead>\n",
       "  <tbody>\n",
       "    <tr>\n",
       "      <th>0</th>\n",
       "      <td>0a0ebd53.jpeg</td>\n",
       "      <td>29-MAY-2019</td>\n",
       "      <td>2019-05-29</td>\n",
       "      <td>NaN</td>\n",
       "    </tr>\n",
       "    <tr>\n",
       "      <th>1</th>\n",
       "      <td>0a8a955f.jpeg</td>\n",
       "      <td>22.05.2019</td>\n",
       "      <td>2019-05-22</td>\n",
       "      <td>NaN</td>\n",
       "    </tr>\n",
       "    <tr>\n",
       "      <th>2</th>\n",
       "      <td>0b1664cb.jpeg</td>\n",
       "      <td>05/07/2019</td>\n",
       "      <td>2019-07-05</td>\n",
       "      <td>NaN</td>\n",
       "    </tr>\n",
       "    <tr>\n",
       "      <th>3</th>\n",
       "      <td>0c60aa84.jpeg</td>\n",
       "      <td>28-Jun-2019</td>\n",
       "      <td>2019-06-28</td>\n",
       "      <td>2019-06-28</td>\n",
       "    </tr>\n",
       "    <tr>\n",
       "      <th>4</th>\n",
       "      <td>0c4672b4.jpeg</td>\n",
       "      <td>18/06/2019</td>\n",
       "      <td>2019-06-18</td>\n",
       "      <td>NaN</td>\n",
       "    </tr>\n",
       "    <tr>\n",
       "      <th>...</th>\n",
       "      <td>...</td>\n",
       "      <td>...</td>\n",
       "      <td>...</td>\n",
       "      <td>...</td>\n",
       "    </tr>\n",
       "    <tr>\n",
       "      <th>153</th>\n",
       "      <td>f9034671.jpeg</td>\n",
       "      <td>06/17/2019</td>\n",
       "      <td>2019-06-17</td>\n",
       "      <td>NaN</td>\n",
       "    </tr>\n",
       "    <tr>\n",
       "      <th>154</th>\n",
       "      <td>f2e9be84.jpeg</td>\n",
       "      <td>22/05/2019</td>\n",
       "      <td>2019-05-22</td>\n",
       "      <td>2019-05-04</td>\n",
       "    </tr>\n",
       "    <tr>\n",
       "      <th>155</th>\n",
       "      <td>fb360175.jpeg</td>\n",
       "      <td>25AUG’17</td>\n",
       "      <td>2017-08-25</td>\n",
       "      <td>NaN</td>\n",
       "    </tr>\n",
       "    <tr>\n",
       "      <th>156</th>\n",
       "      <td>fb939620.jpeg</td>\n",
       "      <td>06/16/2019</td>\n",
       "      <td>2019-06-16</td>\n",
       "      <td>NaN</td>\n",
       "    </tr>\n",
       "    <tr>\n",
       "      <th>157</th>\n",
       "      <td>fc6c8af2.jpeg</td>\n",
       "      <td>27/5/19</td>\n",
       "      <td>2019-05-27</td>\n",
       "      <td>NaN</td>\n",
       "    </tr>\n",
       "  </tbody>\n",
       "</table>\n",
       "<p>158 rows × 4 columns</p>\n",
       "</div>"
      ],
      "text/plain": [
       "                ID  Actual Date Expected Output        Hypo\n",
       "0    0a0ebd53.jpeg  29-MAY-2019      2019-05-29         NaN\n",
       "1    0a8a955f.jpeg   22.05.2019      2019-05-22         NaN\n",
       "2    0b1664cb.jpeg   05/07/2019      2019-07-05         NaN\n",
       "3    0c60aa84.jpeg  28-Jun-2019      2019-06-28  2019-06-28\n",
       "4    0c4672b4.jpeg   18/06/2019      2019-06-18         NaN\n",
       "..             ...          ...             ...         ...\n",
       "153  f9034671.jpeg   06/17/2019      2019-06-17         NaN\n",
       "154  f2e9be84.jpeg   22/05/2019      2019-05-22  2019-05-04\n",
       "155  fb360175.jpeg     25AUG’17      2017-08-25         NaN\n",
       "156  fb939620.jpeg   06/16/2019      2019-06-16         NaN\n",
       "157  fc6c8af2.jpeg      27/5/19      2019-05-27         NaN\n",
       "\n",
       "[158 rows x 4 columns]"
      ]
     },
     "execution_count": 18,
     "metadata": {},
     "output_type": "execute_result"
    }
   ],
   "source": [
    "s = y.merge(res, how = 'left') #, left_index=True, right_index=True)\n",
    "s"
   ]
  },
  {
   "cell_type": "code",
   "execution_count": 19,
   "metadata": {},
   "outputs": [],
   "source": [
    "s.loc[s['Hypo']==\"null\", 'Hypo'] = \"NaN\""
   ]
  },
  {
   "cell_type": "code",
   "execution_count": 20,
   "metadata": {},
   "outputs": [
    {
     "name": "stdout",
     "output_type": "stream",
     "text": [
      "Accuracy is:  32.91139240506329\n"
     ]
    }
   ],
   "source": [
    "print(\"Accuracy is: \", len(s.loc[s['Expected Output']==s['Hypo']])/len(s)*100)"
   ]
  },
  {
   "cell_type": "markdown",
   "metadata": {},
   "source": [
    "## Results: "
   ]
  },
  {
   "cell_type": "markdown",
   "metadata": {},
   "source": [
    "|Test No: |Model            |Accuracy |\n",
    "|---------|-----------------|---------|\n",
    "|2        |W/o Auto correct |29.746835|\n",
    "|3        |W Auto Correct   |30.379747|\n",
    "|4        |W pre processing |4.4303794|\n",
    "|5        |W UpScaling only |32.911392|"
   ]
  },
  {
   "cell_type": "markdown",
   "metadata": {},
   "source": [
    "## Some minor Analysis"
   ]
  },
  {
   "cell_type": "code",
   "execution_count": 58,
   "metadata": {},
   "outputs": [
    {
     "data": {
      "text/html": [
       "<div>\n",
       "<style scoped>\n",
       "    .dataframe tbody tr th:only-of-type {\n",
       "        vertical-align: middle;\n",
       "    }\n",
       "\n",
       "    .dataframe tbody tr th {\n",
       "        vertical-align: top;\n",
       "    }\n",
       "\n",
       "    .dataframe thead th {\n",
       "        text-align: right;\n",
       "    }\n",
       "</style>\n",
       "<table border=\"1\" class=\"dataframe\">\n",
       "  <thead>\n",
       "    <tr style=\"text-align: right;\">\n",
       "      <th></th>\n",
       "      <th>ID</th>\n",
       "      <th>Actual Date</th>\n",
       "      <th>Expected Output</th>\n",
       "      <th>Hypo</th>\n",
       "    </tr>\n",
       "  </thead>\n",
       "  <tbody>\n",
       "    <tr>\n",
       "      <th>0</th>\n",
       "      <td>0a0ebd53.jpeg</td>\n",
       "      <td>29-MAY-2019</td>\n",
       "      <td>2019-05-29</td>\n",
       "      <td>NaN</td>\n",
       "    </tr>\n",
       "    <tr>\n",
       "      <th>1</th>\n",
       "      <td>0a8a955f.jpeg</td>\n",
       "      <td>22.05.2019</td>\n",
       "      <td>2019-05-22</td>\n",
       "      <td>NaN</td>\n",
       "    </tr>\n",
       "    <tr>\n",
       "      <th>2</th>\n",
       "      <td>0b1664cb.jpeg</td>\n",
       "      <td>05/07/2019</td>\n",
       "      <td>2019-07-05</td>\n",
       "      <td>2019-05-87</td>\n",
       "    </tr>\n",
       "    <tr>\n",
       "      <th>4</th>\n",
       "      <td>0c4672b4.jpeg</td>\n",
       "      <td>18/06/2019</td>\n",
       "      <td>2019-06-18</td>\n",
       "      <td>NaN</td>\n",
       "    </tr>\n",
       "    <tr>\n",
       "      <th>5</th>\n",
       "      <td>0cc46a10.jpeg</td>\n",
       "      <td>03/Jun/2019</td>\n",
       "      <td>2019-06-03</td>\n",
       "      <td>2004-08-09</td>\n",
       "    </tr>\n",
       "    <tr>\n",
       "      <th>...</th>\n",
       "      <td>...</td>\n",
       "      <td>...</td>\n",
       "      <td>...</td>\n",
       "      <td>...</td>\n",
       "    </tr>\n",
       "    <tr>\n",
       "      <th>152</th>\n",
       "      <td>f980a8bc.jpeg</td>\n",
       "      <td>29/05/2019</td>\n",
       "      <td>2019-05-29</td>\n",
       "      <td>NaN</td>\n",
       "    </tr>\n",
       "    <tr>\n",
       "      <th>153</th>\n",
       "      <td>f9034671.jpeg</td>\n",
       "      <td>06/17/2019</td>\n",
       "      <td>2019-06-17</td>\n",
       "      <td>NaN</td>\n",
       "    </tr>\n",
       "    <tr>\n",
       "      <th>155</th>\n",
       "      <td>fb360175.jpeg</td>\n",
       "      <td>25AUG’17</td>\n",
       "      <td>2017-08-25</td>\n",
       "      <td>NaN</td>\n",
       "    </tr>\n",
       "    <tr>\n",
       "      <th>156</th>\n",
       "      <td>fb939620.jpeg</td>\n",
       "      <td>06/16/2019</td>\n",
       "      <td>2019-06-16</td>\n",
       "      <td>NaN</td>\n",
       "    </tr>\n",
       "    <tr>\n",
       "      <th>157</th>\n",
       "      <td>fc6c8af2.jpeg</td>\n",
       "      <td>27/5/19</td>\n",
       "      <td>2019-05-27</td>\n",
       "      <td>NaN</td>\n",
       "    </tr>\n",
       "  </tbody>\n",
       "</table>\n",
       "<p>111 rows × 4 columns</p>\n",
       "</div>"
      ],
      "text/plain": [
       "                ID  Actual Date Expected Output        Hypo\n",
       "0    0a0ebd53.jpeg  29-MAY-2019      2019-05-29         NaN\n",
       "1    0a8a955f.jpeg   22.05.2019      2019-05-22         NaN\n",
       "2    0b1664cb.jpeg   05/07/2019      2019-07-05  2019-05-87\n",
       "4    0c4672b4.jpeg   18/06/2019      2019-06-18         NaN\n",
       "5    0cc46a10.jpeg  03/Jun/2019      2019-06-03  2004-08-09\n",
       "..             ...          ...             ...         ...\n",
       "152  f980a8bc.jpeg   29/05/2019      2019-05-29         NaN\n",
       "153  f9034671.jpeg   06/17/2019      2019-06-17         NaN\n",
       "155  fb360175.jpeg     25AUG’17      2017-08-25         NaN\n",
       "156  fb939620.jpeg   06/16/2019      2019-06-16         NaN\n",
       "157  fc6c8af2.jpeg      27/5/19      2019-05-27         NaN\n",
       "\n",
       "[111 rows x 4 columns]"
      ]
     },
     "execution_count": 58,
     "metadata": {},
     "output_type": "execute_result"
    }
   ],
   "source": [
    "s.head(50)\n",
    "s.loc[s['Expected Output']!=s['Hypo']]"
   ]
  },
  {
   "cell_type": "code",
   "execution_count": null,
   "metadata": {},
   "outputs": [],
   "source": []
  }
 ],
 "metadata": {
  "kernelspec": {
   "display_name": "Python 3",
   "language": "python",
   "name": "python3"
  },
  "language_info": {
   "codemirror_mode": {
    "name": "ipython",
    "version": 3
   },
   "file_extension": ".py",
   "mimetype": "text/x-python",
   "name": "python",
   "nbconvert_exporter": "python",
   "pygments_lexer": "ipython3",
   "version": "3.6.8"
  }
 },
 "nbformat": 4,
 "nbformat_minor": 4
}
