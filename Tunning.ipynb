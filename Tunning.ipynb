{
 "cells": [
  {
   "cell_type": "code",
   "execution_count": 2,
   "metadata": {},
   "outputs": [],
   "source": [
    "import cv2 as cv\n",
    "import numpy as np\n",
    "import pytesseract as tr\n",
    "import os\n",
    "from skimage import io\n",
    "from skimage.transform import rotate\n",
    "from skimage.color import rgb2gray\n",
    "from deskew import determine_skew"
   ]
  },
  {
   "cell_type": "markdown",
   "metadata": {},
   "source": [
    "## Main script stars from here:"
   ]
  },
  {
   "cell_type": "code",
   "execution_count": null,
   "metadata": {},
   "outputs": [],
   "source": []
  },
  {
   "cell_type": "code",
   "execution_count": 6,
   "metadata": {},
   "outputs": [],
   "source": [
    "def show(img, title=\"img\", destroy = 1):\n",
    "    cv.imshow(title, img)\n",
    "    cv.waitKey(0)\n",
    "    if destroy:        \n",
    "        cv.destroyAllWindows()\n",
    "\n",
    "def its(img):\n",
    "    return tr.image_to_string(img)\n",
    "\n",
    "def dsk(img):\n",
    "    angle = determine_skew(img)\n",
    "    rotated = rotate(img, angle, resize=True) * 255\n",
    "    return rotated, angle"
   ]
  },
  {
   "cell_type": "markdown",
   "metadata": {},
   "source": [
    "### Result without any modifications: "
   ]
  },
  {
   "cell_type": "code",
   "execution_count": null,
   "metadata": {},
   "outputs": [],
   "source": [
    "img = cv.imread(\"Sample Dataset/Receipts/02acce30.jpeg\", 0)\n",
    "# dk, angle = dsk(img)\n",
    "print(tr.image_to_string(img))"
   ]
  },
  {
   "cell_type": "code",
   "execution_count": 16,
   "metadata": {},
   "outputs": [
    {
     "name": "stdout",
     "output_type": "stream",
     "text": [
      "aoe\n",
      "\n",
      "Juniper & IVY\n",
      "Peas ei\n",
      "Rn accel eral)\n",
      "\n",
      "ewes eee nn rad\n",
      "1 eae Cae\n",
      "PRA nd\n",
      "Cee ae\n",
      "te yas ro\n",
      "Pua ey\n",
      "PE ce en\n",
      "ea cca\n",
      "se yay\n",
      "eal ne\n",
      "een emt\n",
      "ree ORs emt\n",
      "1 OCTOPUS mt\n",
      "cetera 12.00\n",
      "Sr CaCI a\n",
      "ecu een\n",
      "acs en\n",
      "Subt\n",
      "Sana CRN\n",
      "TRE nc)\n",
      "\n",
      "333.72\n"
     ]
    }
   ],
   "source": [
    "thr = cv.adaptiveThreshold(img, 255, cv.ADAPTIVE_THRESH_GAUSSIAN_C, cv.THRESH_BINARY_INV, 11, 12)\n",
    "print(its(thr))"
   ]
  },
  {
   "cell_type": "code",
   "execution_count": 17,
   "metadata": {},
   "outputs": [
    {
     "data": {
      "text/plain": [
       "'ley\\n\\noat rr\\nee oats —_\\ned ri 7\\noe\\nOh et wa\\nPa 1\\nA Bhs ea )\\naos 12.00\\ner\\n16 ROD PRMD san\\nys i\\nAn\\nty :\\noe] 2.0\\nPe or\\nu yar\\nOe Brey 333.72'"
      ]
     },
     "execution_count": 17,
     "metadata": {},
     "output_type": "execute_result"
    }
   ],
   "source": [
    "kernel = np.ones((4,4), np.uint8)\n",
    "dist = cv.dilate(thr,kernel,iterations = 1)\n",
    "# show(dist)\n",
    "its(dist)"
   ]
  },
  {
   "cell_type": "markdown",
   "metadata": {},
   "source": [
    "### Output of: dilate>erode"
   ]
  },
  {
   "cell_type": "code",
   "execution_count": 18,
   "metadata": {},
   "outputs": [
    {
     "name": "stdout",
     "output_type": "stream",
     "text": [
      "a\n",
      "\n",
      "a\n",
      "' Pek ok pee\n",
      "\n",
      "a ai\n",
      "\n",
      "1. 24\n",
      "Tha\n",
      "gmi01\n",
      "\n",
      "me\n",
      "Re Re\n",
      "Dan ty\n",
      "\n",
      "=\n",
      "rie\n",
      "\n",
      "ml\n",
      "\n",
      "seen 4\n",
      "\n",
      "; ma i.\n",
      "ae aD\n"
     ]
    }
   ],
   "source": [
    "erod = cv.erode(dist,kernel, iterations=1)\n",
    "# show(erod)\n",
    "s = its(erod)\n",
    "print(s)"
   ]
  },
  {
   "cell_type": "markdown",
   "metadata": {},
   "source": [
    "### Output of: thresholding->gaussianBlut "
   ]
  },
  {
   "cell_type": "code",
   "execution_count": 19,
   "metadata": {},
   "outputs": [
    {
     "name": "stdout",
     "output_type": "stream",
     "text": [
      "aoe\n",
      "\n",
      "MIN pki aed & IVY\n",
      "vd\n",
      "owe)\n",
      "5 ener\n",
      "aoe an a [a\n",
      "il fier rs\n",
      "arrrn a)\n",
      "unl re\n",
      "ey aT ey\n",
      "Te biae Dy Cm)\n",
      "metal crt)\n",
      "is ya\n",
      "pee ea ae 10,00\n",
      "ee giao) ra)\n",
      "Pee mY i} rR)\n",
      "ocr atm)\n",
      "saan oan\n",
      "Paty ums Pret a\n",
      "ec en\n",
      "28.00\n",
      "Ese\n",
      "ad Ce 33.0\n",
      "CAE ec Pees\n"
     ]
    }
   ],
   "source": [
    "gBlur = cv.GaussianBlur(thr,(5,5),0)\n",
    "show(gBlur, \"blur\")\n",
    "print(its(gBlur))"
   ]
  },
  {
   "cell_type": "markdown",
   "metadata": {},
   "source": [
    "### Output of: threshlding->gaussianBlur->erode"
   ]
  },
  {
   "cell_type": "code",
   "execution_count": 20,
   "metadata": {},
   "outputs": [
    {
     "name": "stdout",
     "output_type": "stream",
     "text": [
      "r _\n",
      "\n",
      "an d\n",
      "Alora aoe\n",
      "WE ene\n",
      "\n",
      "Pa\n",
      "\n",
      "a hal =<\n"
     ]
    }
   ],
   "source": [
    "kernel = np.ones((2,2), np.uint8)\n",
    "erodB = cv.erode(dist,kernel, iterations=1)\n",
    "# show(erodB, \"2*2\", 0)\n",
    "# show( cv.erode(dist, np.ones((4,4), np.uint8) ), \"4*4\" )\n",
    "print(its(erodB))"
   ]
  },
  {
   "cell_type": "code",
   "execution_count": null,
   "metadata": {},
   "outputs": [],
   "source": []
  }
 ],
 "metadata": {
  "kernelspec": {
   "display_name": "Python 3",
   "language": "python",
   "name": "python3"
  },
  "language_info": {
   "codemirror_mode": {
    "name": "ipython",
    "version": 3
   },
   "file_extension": ".py",
   "mimetype": "text/x-python",
   "name": "python",
   "nbconvert_exporter": "python",
   "pygments_lexer": "ipython3",
   "version": "3.6.8"
  }
 },
 "nbformat": 4,
 "nbformat_minor": 4
}
