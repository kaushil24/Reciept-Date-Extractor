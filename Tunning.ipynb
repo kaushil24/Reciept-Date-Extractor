{
 "cells": [
  {
   "cell_type": "code",
   "execution_count": 55,
   "metadata": {},
   "outputs": [],
   "source": [
    "import cv2 as cv\n",
    "import numpy as np\n",
    "import pytesseract as tr\n",
    "import os\n",
    "from skimage import io\n",
    "from skimage.transform import rotate\n",
    "from skimage.color import rgb2gray\n",
    "from deskew import determine_skew\n",
    "from autocorrect import Speller\n",
    "from skimage.transform import rotate\n",
    "from skimage import exposure"
   ]
  },
  {
   "cell_type": "markdown",
   "metadata": {},
   "source": [
    "## Main script stars from here:"
   ]
  },
  {
   "cell_type": "markdown",
   "metadata": {
    "jupyter": {
     "source_hidden": true
    }
   },
   "source": [
    "### SOME AUTO CORRECT SCRIPPT TO DETECT CORRECT SPELLING:"
   ]
  },
  {
   "cell_type": "code",
   "execution_count": 19,
   "metadata": {
    "jupyter": {
     "source_hidden": true
    }
   },
   "outputs": [],
   "source": [
    "sp = Speller(lang='kk')\n",
    "en = Speller(lang='en')"
   ]
  },
  {
   "cell_type": "code",
   "execution_count": 22,
   "metadata": {
    "collapsed": true,
    "jupyter": {
     "outputs_hidden": true,
     "source_hidden": true
    }
   },
   "outputs": [
    {
     "data": {
      "text/plain": [
       "\"oct16' 2019 nov dec\""
      ]
     },
     "execution_count": 22,
     "metadata": {},
     "output_type": "execute_result"
    }
   ],
   "source": [
    "en(\"pct16' 2019 mov dec\")"
   ]
  },
  {
   "cell_type": "markdown",
   "metadata": {
    "jupyter": {
     "source_hidden": true
    }
   },
   "source": [
    "### END OF THE AUTO CORRECT STATEMENTS:"
   ]
  },
  {
   "cell_type": "code",
   "execution_count": 34,
   "metadata": {
    "jupyter": {
     "source_hidden": true
    }
   },
   "outputs": [],
   "source": [
    "def show(img, title=\"img\", destroy = 1):\n",
    "    cv.imshow(title, img)\n",
    "    cv.waitKey(0)\n",
    "    if destroy:        \n",
    "        cv.destroyAllWindows()\n",
    "\n",
    "def its(img):\n",
    "    return tr.image_to_string(img)\n",
    "\n",
    "def dsk(img):\n",
    "    angle = determine_skew(img)\n",
    "    rotated = rotate(img, angle, resize=True) * 255\n",
    "    return rotated, angle\n",
    "\n",
    "def deNoise(img):\n",
    "    filtered = cv.adaptiveThreshold(img.astype(np.uint8), 255, cv.ADAPTIVE_THRESH_MEAN_C, cv.THRESH_BINARY, 9, 41)\n",
    "    kernel = np.ones((1, 1), np.uint8)\n",
    "    opening = cv.morphologyEx(filtered, cv.MORPH_OPEN, kernel)\n",
    "    closing = cv.morphologyEx(opening, cv.MORPH_CLOSE, kernel)\n",
    "    img = cv.bilateralFilter(img,9,75,75)\n",
    "    or_image = cv.bitwise_or(img, closing)\n",
    "    return or_image"
   ]
  },
  {
   "cell_type": "markdown",
   "metadata": {},
   "source": [
    "### Result without any modifications: "
   ]
  },
  {
   "cell_type": "code",
   "execution_count": 51,
   "metadata": {
    "collapsed": true,
    "jupyter": {
     "outputs_hidden": true
    }
   },
   "outputs": [
    {
     "name": "stdout",
     "output_type": "stream",
     "text": [
      "Tab le\n",
      "\n",
      "23 PM\n",
      "\n",
      "ied Hate!\n",
      "id Pollo Taco\n",
      "\n",
      "1 Add Carnitas Taco\n",
      "\n",
      "1 Sour Crean\n",
      "\n",
      "1 Chihuahua Cheese\n",
      "\n",
      "MPEA Tax\n",
      "Restaurant.\n",
      "\n",
      "Food:\n",
      "Be\n",
      "\n",
      "n\n",
      "A Robinson Hill Company.\n",
      "\n",
      "It's The ExpeRHience That Counts!\n",
      "Tell us about your visit!\n",
      "Ww), robinsonht | Jusa, eom/auest=si\n"
     ]
    }
   ],
   "source": [
    "img = cv.imread(\"Sample Dataset/Receipts/459b00d4.jpeg\", 0)\n",
    "# dk, angle = dsk(img)\n",
    "show(img)\n",
    "print(tr.image_to_string(img))"
   ]
  },
  {
   "cell_type": "markdown",
   "metadata": {
    "jupyter": {
     "source_hidden": true
    }
   },
   "source": [
    "### TRYING TO ROTATE IMAGE BY CERTIN ANGLE:"
   ]
  },
  {
   "cell_type": "code",
   "execution_count": 48,
   "metadata": {
    "collapsed": true,
    "jupyter": {
     "outputs_hidden": true,
     "source_hidden": true
    }
   },
   "outputs": [
    {
     "name": "stdout",
     "output_type": "stream",
     "text": [
      "\n"
     ]
    },
    {
     "data": {
      "text/plain": [
       "(1000, 750)"
      ]
     },
     "execution_count": 48,
     "metadata": {},
     "output_type": "execute_result"
    }
   ],
   "source": [
    "rot = rotate(img, -5)\n",
    "# show(rot)\n",
    "print(its(rot))\n",
    "rot.shape"
   ]
  },
  {
   "cell_type": "markdown",
   "metadata": {},
   "source": [
    "### Image->Denoise"
   ]
  },
  {
   "cell_type": "code",
   "execution_count": 59,
   "metadata": {},
   "outputs": [
    {
     "ename": "ValueError",
     "evalue": "Gamma should be a non-negative real number.",
     "output_type": "error",
     "traceback": [
      "\u001b[0;31m---------------------------------------------------------------------------\u001b[0m",
      "\u001b[0;31mValueError\u001b[0m                                Traceback (most recent call last)",
      "\u001b[0;32m<ipython-input-59-6a977396f2b7>\u001b[0m in \u001b[0;36m<module>\u001b[0;34m\u001b[0m\n\u001b[1;32m      4\u001b[0m \u001b[0mshow\u001b[0m\u001b[0;34m(\u001b[0m\u001b[0mimg\u001b[0m\u001b[0;34m,\u001b[0m \u001b[0;34m\"sds\"\u001b[0m\u001b[0;34m,\u001b[0m\u001b[0;36m1\u001b[0m\u001b[0;34m)\u001b[0m\u001b[0;34m\u001b[0m\u001b[0;34m\u001b[0m\u001b[0m\n\u001b[1;32m      5\u001b[0m \u001b[0mshow\u001b[0m\u001b[0;34m(\u001b[0m\u001b[0mdn\u001b[0m\u001b[0;34m)\u001b[0m\u001b[0;34m\u001b[0m\u001b[0;34m\u001b[0m\u001b[0m\n\u001b[0;32m----> 6\u001b[0;31m \u001b[0mgamm\u001b[0m \u001b[0;34m=\u001b[0m \u001b[0mexposure\u001b[0m\u001b[0;34m.\u001b[0m\u001b[0madjust_gamma\u001b[0m\u001b[0;34m(\u001b[0m\u001b[0mdn\u001b[0m\u001b[0;34m,\u001b[0m \u001b[0;34m-\u001b[0m\u001b[0;36m0.5\u001b[0m\u001b[0;34m)\u001b[0m\u001b[0;34m\u001b[0m\u001b[0;34m\u001b[0m\u001b[0m\n\u001b[0m\u001b[1;32m      7\u001b[0m \u001b[0mshow\u001b[0m\u001b[0;34m(\u001b[0m\u001b[0mgamm\u001b[0m\u001b[0;34m)\u001b[0m\u001b[0;34m\u001b[0m\u001b[0;34m\u001b[0m\u001b[0m\n\u001b[1;32m      8\u001b[0m \u001b[0mprint\u001b[0m\u001b[0;34m(\u001b[0m\u001b[0mits\u001b[0m\u001b[0;34m(\u001b[0m\u001b[0mgamm\u001b[0m\u001b[0;34m)\u001b[0m\u001b[0;34m)\u001b[0m\u001b[0;34m\u001b[0m\u001b[0;34m\u001b[0m\u001b[0m\n",
      "\u001b[0;32m~/.local/lib/python3.6/site-packages/skimage/exposure/exposure.py\u001b[0m in \u001b[0;36madjust_gamma\u001b[0;34m(image, gamma, gain)\u001b[0m\n\u001b[1;32m    412\u001b[0m \u001b[0;34m\u001b[0m\u001b[0m\n\u001b[1;32m    413\u001b[0m     \u001b[0;32mif\u001b[0m \u001b[0mgamma\u001b[0m \u001b[0;34m<\u001b[0m \u001b[0;36m0\u001b[0m\u001b[0;34m:\u001b[0m\u001b[0;34m\u001b[0m\u001b[0;34m\u001b[0m\u001b[0m\n\u001b[0;32m--> 414\u001b[0;31m         \u001b[0;32mraise\u001b[0m \u001b[0mValueError\u001b[0m\u001b[0;34m(\u001b[0m\u001b[0;34m\"Gamma should be a non-negative real number.\"\u001b[0m\u001b[0;34m)\u001b[0m\u001b[0;34m\u001b[0m\u001b[0;34m\u001b[0m\u001b[0m\n\u001b[0m\u001b[1;32m    415\u001b[0m \u001b[0;34m\u001b[0m\u001b[0m\n\u001b[1;32m    416\u001b[0m     \u001b[0mscale\u001b[0m \u001b[0;34m=\u001b[0m \u001b[0mfloat\u001b[0m\u001b[0;34m(\u001b[0m\u001b[0mdtype_limits\u001b[0m\u001b[0;34m(\u001b[0m\u001b[0mimage\u001b[0m\u001b[0;34m,\u001b[0m \u001b[0;32mTrue\u001b[0m\u001b[0;34m)\u001b[0m\u001b[0;34m[\u001b[0m\u001b[0;36m1\u001b[0m\u001b[0;34m]\u001b[0m \u001b[0;34m-\u001b[0m \u001b[0mdtype_limits\u001b[0m\u001b[0;34m(\u001b[0m\u001b[0mimage\u001b[0m\u001b[0;34m,\u001b[0m \u001b[0;32mTrue\u001b[0m\u001b[0;34m)\u001b[0m\u001b[0;34m[\u001b[0m\u001b[0;36m0\u001b[0m\u001b[0;34m]\u001b[0m\u001b[0;34m)\u001b[0m\u001b[0;34m\u001b[0m\u001b[0;34m\u001b[0m\u001b[0m\n",
      "\u001b[0;31mValueError\u001b[0m: Gamma should be a non-negative real number."
     ]
    }
   ],
   "source": [
    "thr = cv.adaptiveThreshold(img, 255, cv.ADAPTIVE_THRESH_GAUSSIAN_C, cv.THRESH_BINARY_INV, 9, 41)\n",
    "# show(thr)\n",
    "dn = deNoise(img)\n",
    "show(img, \"sds\",1)\n",
    "show(dn)\n",
    "gamm = exposure.adjust_gamma(dn, -0.5)\n",
    "show(gamm)\n",
    "print(its(gamm))"
   ]
  },
  {
   "cell_type": "code",
   "execution_count": 17,
   "metadata": {},
   "outputs": [
    {
     "data": {
      "text/plain": [
       "'ley\\n\\noat rr\\nee oats —_\\ned ri 7\\noe\\nOh et wa\\nPa 1\\nA Bhs ea )\\naos 12.00\\ner\\n16 ROD PRMD san\\nys i\\nAn\\nty :\\noe] 2.0\\nPe or\\nu yar\\nOe Brey 333.72'"
      ]
     },
     "execution_count": 17,
     "metadata": {},
     "output_type": "execute_result"
    }
   ],
   "source": [
    "kernel = np.ones((4,4), np.uint8)\n",
    "dist = cv.dilate(thr,kernel,iterations = 1)\n",
    "# show(dist)\n",
    "its(dist)"
   ]
  },
  {
   "cell_type": "markdown",
   "metadata": {},
   "source": [
    "### Output of: dilate>erode"
   ]
  },
  {
   "cell_type": "code",
   "execution_count": 18,
   "metadata": {},
   "outputs": [
    {
     "name": "stdout",
     "output_type": "stream",
     "text": [
      "a\n",
      "\n",
      "a\n",
      "' Pek ok pee\n",
      "\n",
      "a ai\n",
      "\n",
      "1. 24\n",
      "Tha\n",
      "gmi01\n",
      "\n",
      "me\n",
      "Re Re\n",
      "Dan ty\n",
      "\n",
      "=\n",
      "rie\n",
      "\n",
      "ml\n",
      "\n",
      "seen 4\n",
      "\n",
      "; ma i.\n",
      "ae aD\n"
     ]
    }
   ],
   "source": [
    "erod = cv.erode(dist,kernel, iterations=1)\n",
    "# show(erod)\n",
    "s = its(erod)\n",
    "print(s)"
   ]
  },
  {
   "cell_type": "markdown",
   "metadata": {},
   "source": [
    "### Output of: thresholding->gaussianBlut "
   ]
  },
  {
   "cell_type": "code",
   "execution_count": 19,
   "metadata": {},
   "outputs": [
    {
     "name": "stdout",
     "output_type": "stream",
     "text": [
      "aoe\n",
      "\n",
      "MIN pki aed & IVY\n",
      "vd\n",
      "owe)\n",
      "5 ener\n",
      "aoe an a [a\n",
      "il fier rs\n",
      "arrrn a)\n",
      "unl re\n",
      "ey aT ey\n",
      "Te biae Dy Cm)\n",
      "metal crt)\n",
      "is ya\n",
      "pee ea ae 10,00\n",
      "ee giao) ra)\n",
      "Pee mY i} rR)\n",
      "ocr atm)\n",
      "saan oan\n",
      "Paty ums Pret a\n",
      "ec en\n",
      "28.00\n",
      "Ese\n",
      "ad Ce 33.0\n",
      "CAE ec Pees\n"
     ]
    }
   ],
   "source": [
    "gBlur = cv.GaussianBlur(thr,(5,5),0)\n",
    "show(gBlur, \"blur\")\n",
    "print(its(gBlur))"
   ]
  },
  {
   "cell_type": "markdown",
   "metadata": {},
   "source": [
    "### Output of: threshlding->gaussianBlur->erode"
   ]
  },
  {
   "cell_type": "code",
   "execution_count": 20,
   "metadata": {},
   "outputs": [
    {
     "name": "stdout",
     "output_type": "stream",
     "text": [
      "r _\n",
      "\n",
      "an d\n",
      "Alora aoe\n",
      "WE ene\n",
      "\n",
      "Pa\n",
      "\n",
      "a hal =<\n"
     ]
    }
   ],
   "source": [
    "kernel = np.ones((2,2), np.uint8)\n",
    "erodB = cv.erode(dist,kernel, iterations=1)\n",
    "# show(erodB, \"2*2\", 0)\n",
    "# show( cv.erode(dist, np.ones((4,4), np.uint8) ), \"4*4\" )\n",
    "print(its(erodB))"
   ]
  },
  {
   "cell_type": "code",
   "execution_count": null,
   "metadata": {},
   "outputs": [],
   "source": []
  }
 ],
 "metadata": {
  "kernelspec": {
   "display_name": "Python 3",
   "language": "python",
   "name": "python3"
  },
  "language_info": {
   "codemirror_mode": {
    "name": "ipython",
    "version": 3
   },
   "file_extension": ".py",
   "mimetype": "text/x-python",
   "name": "python",
   "nbconvert_exporter": "python",
   "pygments_lexer": "ipython3",
   "version": "3.6.8"
  }
 },
 "nbformat": 4,
 "nbformat_minor": 4
}
